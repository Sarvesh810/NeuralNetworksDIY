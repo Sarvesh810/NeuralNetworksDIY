{
 "cells": [
  {
   "cell_type": "markdown",
   "metadata": {},
   "source": [
    "### **Analysing How weight initialisation affects model metrics**"
   ]
  },
  {
   "cell_type": "markdown",
   "metadata": {},
   "source": [
    "#### ***Dependencies***"
   ]
  },
  {
   "cell_type": "code",
   "execution_count": 1,
   "metadata": {},
   "outputs": [],
   "source": [
    "# Add the path of outer folders for easy imports\n",
    "import sys\n",
    "import os\n",
    "sys.path.append(os.path.abspath(os.path.join(os.getcwd(), '..')))\n",
    "\n",
    "import pandas as pd\n",
    "import numpy as np\n",
    "import tensorflow as tf\n",
    "\n",
    "from src.activation_functions.ReLU import ReLU\n",
    "from src.activation_functions.Softmax import Softmax\n",
    "from src.layers.DenseLayer import DenseLayer\n",
    "from src.NeuralNetwork import NeuralNetwork"
   ]
  },
  {
   "cell_type": "markdown",
   "metadata": {},
   "source": [
    "#### ***Load Data***"
   ]
  },
  {
   "cell_type": "code",
   "execution_count": 2,
   "metadata": {},
   "outputs": [],
   "source": [
    "def load_mnist():\n",
    "    (x_train, y_train), (x_test, y_test) = tf.keras.datasets.mnist.load_data()\n",
    "    x_train = x_train.reshape(-1, 28*28).astype(np.float32) / 255.0\n",
    "    x_test = x_test.reshape(-1, 28*28).astype(np.float32) / 255.0\n",
    "    y_train = tf.keras.utils.to_categorical(y_train, 10)\n",
    "    y_test = tf.keras.utils.to_categorical(y_test, 10)\n",
    "    return x_train, y_train, x_test, y_test"
   ]
  },
  {
   "cell_type": "code",
   "execution_count": 3,
   "metadata": {},
   "outputs": [],
   "source": [
    "x_train, y_train, x_test, y_test = load_mnist()"
   ]
  },
  {
   "cell_type": "markdown",
   "metadata": {},
   "source": [
    "#### ***Create Neural Network (w/o any weight initialisation)***"
   ]
  },
  {
   "cell_type": "code",
   "execution_count": 4,
   "metadata": {},
   "outputs": [],
   "source": [
    "network1 = NeuralNetwork()\n",
    "network1.add(ReLU())\n",
    "network1.add(DenseLayer(no_inputs=28*28, no_neurons=128, weight_initialisation=1))\n",
    "network1.add(DenseLayer(no_inputs=128, no_neurons=64))\n",
    "network1.add(ReLU())\n",
    "network1.add(DenseLayer(no_inputs=64, no_neurons=10))\n",
    "network1.add(Softmax())"
   ]
  },
  {
   "cell_type": "markdown",
   "metadata": {},
   "source": [
    "#### ***Train the Neural Network***"
   ]
  },
  {
   "cell_type": "code",
   "execution_count": 5,
   "metadata": {},
   "outputs": [
    {
     "name": "stderr",
     "output_type": "stream",
     "text": [
      "c:\\Users\\khand\\Desktop\\projects\\neural_networks\\src\\loss_functions\\cross_entropy.py:8: RuntimeWarning: divide by zero encountered in log\n",
      "  return -np.mean(np.sum(true_values * np.log(predicted_values), axis=1))\n",
      "c:\\Users\\khand\\Desktop\\projects\\neural_networks\\src\\loss_functions\\cross_entropy.py:8: RuntimeWarning: invalid value encountered in multiply\n",
      "  return -np.mean(np.sum(true_values * np.log(predicted_values), axis=1))\n"
     ]
    },
    {
     "name": "stdout",
     "output_type": "stream",
     "text": [
      "Epoch: 1/5; Loss: 92.920118\n",
      "Epoch: 2/5; Loss: nan\n",
      "Epoch: 3/5; Loss: nan\n",
      "Epoch: 4/5; Loss: nan\n",
      "Epoch: 5/5; Loss: nan\n"
     ]
    }
   ],
   "source": [
    "network1.train(x_train, y_train, epochs=5, learning_rate=0.01, batch_size=32)"
   ]
  },
  {
   "cell_type": "markdown",
   "metadata": {},
   "source": [
    "#### ***Test the Neural Network***"
   ]
  },
  {
   "cell_type": "code",
   "execution_count": 6,
   "metadata": {},
   "outputs": [
    {
     "name": "stdout",
     "output_type": "stream",
     "text": [
      "Accuracy: 53.56%\n"
     ]
    }
   ],
   "source": [
    "network1.test(x_test, y_test)"
   ]
  },
  {
   "cell_type": "markdown",
   "metadata": {},
   "source": [
    "#### ***Create Neural Network (with 'he' initialisation)***"
   ]
  },
  {
   "cell_type": "code",
   "execution_count": 7,
   "metadata": {},
   "outputs": [],
   "source": [
    "network2 = NeuralNetwork()\n",
    "network2.add(ReLU())\n",
    "network2.add(DenseLayer(no_inputs=28*28, no_neurons=128))       # Default is he initialisation\n",
    "network2.add(DenseLayer(no_inputs=128, no_neurons=64))\n",
    "network2.add(ReLU())\n",
    "network2.add(DenseLayer(no_inputs=64, no_neurons=10))\n",
    "network2.add(Softmax())"
   ]
  },
  {
   "cell_type": "markdown",
   "metadata": {},
   "source": [
    "#### ***Training the Neural Network***"
   ]
  },
  {
   "cell_type": "code",
   "execution_count": 8,
   "metadata": {},
   "outputs": [
    {
     "name": "stdout",
     "output_type": "stream",
     "text": [
      "Epoch: 1/5; Loss: 0.24487\n",
      "Epoch: 2/5; Loss: 0.06993\n",
      "Epoch: 3/5; Loss: 0.309386\n",
      "Epoch: 4/5; Loss: 0.050972\n",
      "Epoch: 5/5; Loss: 0.009123\n"
     ]
    }
   ],
   "source": [
    "network2.train(x_train, y_train, epochs=5, learning_rate=0.01, batch_size=32)"
   ]
  },
  {
   "cell_type": "markdown",
   "metadata": {},
   "source": [
    "#### ***Testing the Neural Network***"
   ]
  },
  {
   "cell_type": "code",
   "execution_count": 9,
   "metadata": {},
   "outputs": [
    {
     "name": "stdout",
     "output_type": "stream",
     "text": [
      "Accuracy: 96.25%\n"
     ]
    }
   ],
   "source": [
    "network2.test(x_test, y_test)"
   ]
  },
  {
   "cell_type": "markdown",
   "metadata": {},
   "source": [
    "***This shows that initialisation of weights is a crucial factor in training better neural networks.***"
   ]
  }
 ],
 "metadata": {
  "kernelspec": {
   "display_name": "Python 3",
   "language": "python",
   "name": "python3"
  },
  "language_info": {
   "codemirror_mode": {
    "name": "ipython",
    "version": 3
   },
   "file_extension": ".py",
   "mimetype": "text/x-python",
   "name": "python",
   "nbconvert_exporter": "python",
   "pygments_lexer": "ipython3",
   "version": "3.11.5"
  }
 },
 "nbformat": 4,
 "nbformat_minor": 2
}
