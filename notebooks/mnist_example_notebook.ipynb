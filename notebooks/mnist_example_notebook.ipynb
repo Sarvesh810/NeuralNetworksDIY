{
 "cells": [
  {
   "cell_type": "markdown",
   "metadata": {},
   "source": [
    "#### ***Dependencies***"
   ]
  },
  {
   "cell_type": "code",
   "execution_count": 1,
   "metadata": {},
   "outputs": [],
   "source": [
    "# Add the path of outer folders for easy imports\n",
    "import sys\n",
    "import os\n",
    "sys.path.append(os.path.abspath(os.path.join(os.getcwd(), '..')))\n",
    "\n",
    "import numpy as np\n",
    "import tensorflow as tf\n",
    "\n",
    "from src.activation_functions.ReLU import ReLU\n",
    "from src.activation_functions.Softmax import Softmax\n",
    "from src.layers.DenseLayer import DenseLayer\n",
    "from src.NeuralNetwork import NeuralNetwork"
   ]
  },
  {
   "cell_type": "markdown",
   "metadata": {},
   "source": [
    "#### ***Load the Data***"
   ]
  },
  {
   "cell_type": "code",
   "execution_count": 2,
   "metadata": {},
   "outputs": [],
   "source": [
    "def load_mnist():\n",
    "    (x_train, y_train), (x_test, y_test) = tf.keras.datasets.mnist.load_data()\n",
    "    x_train = x_train.reshape(-1, 28*28).astype(np.float32) / 255.0\n",
    "    x_test = x_test.reshape(-1, 28*28).astype(np.float32) / 255.0\n",
    "    y_train = tf.keras.utils.to_categorical(y_train, 10)\n",
    "    y_test = tf.keras.utils.to_categorical(y_test, 10)\n",
    "    return x_train, y_train, x_test, y_test"
   ]
  },
  {
   "cell_type": "code",
   "execution_count": 3,
   "metadata": {},
   "outputs": [
    {
     "data": {
      "text/plain": [
       "(60000, 784)"
      ]
     },
     "execution_count": 3,
     "metadata": {},
     "output_type": "execute_result"
    }
   ],
   "source": [
    "x_train, y_train, x_test, y_test = load_mnist()\n",
    "x_train.shape"
   ]
  },
  {
   "cell_type": "markdown",
   "metadata": {},
   "source": [
    "#### ***Create the Neural Network***"
   ]
  },
  {
   "cell_type": "code",
   "execution_count": 4,
   "metadata": {},
   "outputs": [],
   "source": [
    "neuralnet = NeuralNetwork()\n",
    "neuralnet.add(DenseLayer(no_inputs=784, no_neurons=256))\n",
    "neuralnet.add(ReLU())\n",
    "neuralnet.add(DenseLayer(no_inputs=256, no_neurons=128))\n",
    "neuralnet.add(ReLU())\n",
    "neuralnet.add(DenseLayer(no_inputs=128, no_neurons=64))\n",
    "neuralnet.add(ReLU())\n",
    "neuralnet.add(DenseLayer(no_inputs=64, no_neurons=10))\n",
    "neuralnet.add(Softmax())"
   ]
  },
  {
   "cell_type": "markdown",
   "metadata": {},
   "source": [
    "#### ***Train the Neural Network***"
   ]
  },
  {
   "cell_type": "code",
   "execution_count": 5,
   "metadata": {},
   "outputs": [
    {
     "name": "stdout",
     "output_type": "stream",
     "text": [
      "Epoch: 1/10; Loss: 0.165168\n",
      "Epoch: 2/10; Loss: 0.106741\n",
      "Epoch: 3/10; Loss: 0.451962\n",
      "Epoch: 4/10; Loss: 0.021194\n",
      "Epoch: 5/10; Loss: 0.03353\n",
      "Epoch: 6/10; Loss: 0.019081\n",
      "Epoch: 7/10; Loss: 0.003078\n",
      "Epoch: 8/10; Loss: 0.005605\n",
      "Epoch: 9/10; Loss: 0.001955\n",
      "Epoch: 10/10; Loss: 0.005784\n"
     ]
    }
   ],
   "source": [
    "neuralnet.train(x_train, y_train, epochs=10, learning_rate=0.01, batch_size=32)"
   ]
  },
  {
   "cell_type": "markdown",
   "metadata": {},
   "source": [
    "#### ***Test the Neural Network***"
   ]
  },
  {
   "cell_type": "code",
   "execution_count": 6,
   "metadata": {},
   "outputs": [
    {
     "name": "stdout",
     "output_type": "stream",
     "text": [
      "Accuracy: 97.59%\n"
     ]
    }
   ],
   "source": [
    "neuralnet.test(x_test, y_test)"
   ]
  }
 ],
 "metadata": {
  "kernelspec": {
   "display_name": "Python 3",
   "language": "python",
   "name": "python3"
  },
  "language_info": {
   "codemirror_mode": {
    "name": "ipython",
    "version": 3
   },
   "file_extension": ".py",
   "mimetype": "text/x-python",
   "name": "python",
   "nbconvert_exporter": "python",
   "pygments_lexer": "ipython3",
   "version": "3.11.5"
  }
 },
 "nbformat": 4,
 "nbformat_minor": 2
}
